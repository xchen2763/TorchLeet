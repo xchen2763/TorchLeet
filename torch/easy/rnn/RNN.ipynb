{
  "cells": [
    {
      "cell_type": "markdown",
      "metadata": {
        "id": "view-in-github",
        "colab_type": "text"
      },
      "source": [
        "<a href=\"https://colab.research.google.com/github/xchen2763/TorchLeet/blob/main/torch/easy/rnn/RNN.ipynb\" target=\"_parent\"><img src=\"https://colab.research.google.com/assets/colab-badge.svg\" alt=\"Open In Colab\"/></a>"
      ]
    },
    {
      "cell_type": "markdown",
      "metadata": {
        "id": "4IPvlQ2I1lBe"
      },
      "source": [
        "# Problem: Implement an RNN in PyTorch\n",
        "\n",
        "### Problem Statement\n",
        "You are tasked with implementing a **Recurrent Neural Network (RNN)** in PyTorch to process sequential data. The model should contain an RNN layer for handling sequential input and a fully connected layer to output the final predictions. Your goal is to complete the RNN model by defining the necessary layers and implementing the forward pass.\n",
        "\n",
        "### Requirements\n",
        "1. **Define the RNN Model**:\n",
        "   - Add an **RNN layer** to process sequential data.\n",
        "   - Add a **fully connected layer** to map the RNN output to the final prediction.\n",
        "\n",
        "### Constraints\n",
        "- Use appropriate configurations for the RNN layer, including hidden units and input/output sizes.\n",
        "\n",
        "\n",
        "<details>\n",
        "  <summary>💡 Hint</summary>\n",
        "  Add the RNN layer (self.rnn) and fully connected layer (self.fc) in RNNModel.__init__.\n",
        "  <br>\n",
        "  Implement the forward pass to process inputs through the RNN layer and fully connected layer.\n",
        "</details>"
      ]
    },
    {
      "cell_type": "code",
      "execution_count": null,
      "metadata": {
        "id": "R8KLXURe1lBg"
      },
      "outputs": [],
      "source": [
        "import torch\n",
        "import torch.nn as nn\n",
        "import torch.optim as optim"
      ]
    },
    {
      "cell_type": "code",
      "execution_count": null,
      "metadata": {
        "id": "q3gp80fb1lBh"
      },
      "outputs": [],
      "source": [
        "# Generate synthetic sequential data\n",
        "torch.manual_seed(42)\n",
        "sequence_length = 10\n",
        "num_samples = 100\n",
        "\n",
        "# Create a sine wave dataset\n",
        "X = torch.linspace(0, 4 * 3.14159, steps=num_samples).unsqueeze(1)\n",
        "y = torch.sin(X)\n",
        "\n",
        "# Prepare data for RNN\n",
        "def create_in_out_sequences(data, seq_length):\n",
        "    in_seq = []\n",
        "    out_seq = []\n",
        "    for i in range(len(data) - seq_length):\n",
        "        in_seq.append(data[i:i + seq_length])\n",
        "        out_seq.append(data[i + seq_length])\n",
        "    return torch.stack(in_seq), torch.stack(out_seq)\n",
        "\n",
        "X_seq, y_seq = create_in_out_sequences(y, sequence_length)"
      ]
    },
    {
      "cell_type": "code",
      "execution_count": null,
      "metadata": {
        "id": "zEWCmRvI1lBi"
      },
      "outputs": [],
      "source": [
        "# Define the RNN Model\n",
        "# TODO: Add RNN layer, fully connected layer, and forward implementation\n",
        "class RNNModel(nn.Module):\n",
        "    def __init__(self):\n",
        "        ...\n",
        "\n",
        "    def forward(self, x):\n",
        "        ..."
      ]
    },
    {
      "cell_type": "code",
      "execution_count": null,
      "metadata": {
        "id": "nU39v2aN1lBi"
      },
      "outputs": [],
      "source": [
        "# Initialize the model, loss function, and optimizer\n",
        "model = RNNModel()\n",
        "criterion = nn.MSELoss()\n",
        "optimizer = optim.Adam(model.parameters(), lr=0.001)\n",
        "\n",
        "# Training loop\n",
        "epochs = 500\n",
        "for epoch in range(epochs):\n",
        "    for sequences, labels in zip(X_seq, y_seq):\n",
        "        sequences = sequences.unsqueeze(0)  # Add batch dimension\n",
        "        labels = labels.unsqueeze(0)  # Add batch dimension\n",
        "\n",
        "        # Forward pass\n",
        "        outputs = model(sequences)\n",
        "        loss = criterion(outputs, labels)\n",
        "\n",
        "        # Backward pass and optimization\n",
        "        optimizer.zero_grad()\n",
        "        loss.backward()\n",
        "        optimizer.step()\n",
        "\n",
        "    print(f\"Epoch [{epoch + 1}/{epochs}], Loss: {loss.item():.4f}\")"
      ]
    },
    {
      "cell_type": "code",
      "execution_count": null,
      "metadata": {
        "id": "GDi2UXC11lBj"
      },
      "outputs": [],
      "source": [
        "# Testing on new data\n",
        "X_test = torch.linspace(4 * 3.14159, 5 * 3.14159, steps=10).unsqueeze(1)\n",
        "\n",
        "# Reshape to (batch_size, sequence_length, input_size)\n",
        "X_test = X_test.unsqueeze(0)  # Add batch dimension, shape becomes (1, 10, 1)\n",
        "\n",
        "with torch.no_grad():\n",
        "    predictions = model(X_test)\n",
        "    print(f\"Predictions for new sequence: {predictions.tolist()}\")"
      ]
    }
  ],
  "metadata": {
    "kernelspec": {
      "display_name": ".venv",
      "language": "python",
      "name": "python3"
    },
    "language_info": {
      "codemirror_mode": {
        "name": "ipython",
        "version": 3
      },
      "file_extension": ".py",
      "mimetype": "text/x-python",
      "name": "python",
      "nbconvert_exporter": "python",
      "pygments_lexer": "ipython3",
      "version": "3.10.4"
    },
    "colab": {
      "provenance": [],
      "include_colab_link": true
    }
  },
  "nbformat": 4,
  "nbformat_minor": 0
}